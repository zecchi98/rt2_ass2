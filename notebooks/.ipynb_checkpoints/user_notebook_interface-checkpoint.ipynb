{
 "cells": [
  {
   "cell_type": "code",
   "execution_count": 1,
   "id": "bd2883b3",
   "metadata": {
    "ExecuteTime": {
     "end_time": "2021-05-21T19:46:33.442423Z",
     "start_time": "2021-05-21T19:46:31.488426Z"
    },
    "scrolled": true
   },
   "outputs": [],
   "source": [
    "%matplotlib widget\n",
    "import numpy as np\n",
    "import matplotlib.pyplot as plt\n",
    "import jupyros as jr\n",
    "import rospy\n",
    "import time\n",
    "from nav_msgs.msg import Odometry\n",
    "from matplotlib import animation, rc\n",
    "from geometry_msgs.msg import Twist\n",
    "import ipywidgets as widgets\n",
    "from ipywidgets import Button, Layout, ButtonStyle, GridBox, VBox, HBox\n",
    "import rospy\n",
    "import time\n",
    "from rt2_ass2.srv import Command,CommandRequest\n",
    "from rt2_ass2.msg import go_to_pointActionResult,go_to_pointActionFeedback\n",
    "from geometry_msgs.msg import Twist, Point\n",
    "from nav_msgs.msg import Odometry\n",
    "from rt2_ass2.srv import Position\n",
    "import math\n",
    "import actionlib\n",
    "import actionlib.msg\n",
    "import rt2_ass2.msg\n",
    "import jupyros as jr\n",
    "\n",
    "import numpy as np\n",
    "import matplotlib.pyplot as plt\n",
    "from matplotlib.animation import FuncAnimation\n",
    "import rospy\n",
    "from nav_msgs.msg import Odometry\n",
    "\n",
    "#The initial time is saved in this variable\n",
    "initial_time=time.time()\n",
    "\n",
    "#Here below there are some default initialization\n",
    "hist_times_values=[]\n",
    "number_reached_targets=0\n",
    "number_stopped_targets=0\n",
    "robot_moving_random=False\n",
    "robot_moving_command=False\n",
    "lin_vel_requested=0\n",
    "ang_vel_requested=0\n",
    "\n",
    "\n",
    "#the node is initiliazed\n",
    "rospy.init_node('robot_control_node')\n",
    "\n",
    "#With the below client i will comunicate with the state machine, in order to start and stop the robot\n",
    "ui_client = rospy.ServiceProxy('/user_interface', Command)\n",
    "#With the below publisher i will directly move the robot\n",
    "pub_ = rospy.Publisher('/cmd_vel', Twist, queue_size=1)\n",
    "\n",
    "msg = Twist()\n"
   ]
  },
  {
   "cell_type": "markdown",
   "id": "77d7f837",
   "metadata": {},
   "source": [
    "In the above code, all the main variables will be initialized"
   ]
  },
  {
   "cell_type": "code",
   "execution_count": 2,
   "id": "7fe6c718-35a8-45b8-8263-8eedbffcf7e7",
   "metadata": {},
   "outputs": [
    {
     "data": {
      "application/vnd.jupyter.widget-view+json": {
       "model_id": "ff6ab232e1f242a882b7b7140291afee",
       "version_major": 2,
       "version_minor": 0
      },
      "text/plain": [
       "FloatSlider(value=0.5, description='Linear velocity of the direct control', max=1.0)"
      ]
     },
     "metadata": {},
     "output_type": "display_data"
    },
    {
     "data": {
      "application/vnd.jupyter.widget-view+json": {
       "model_id": "38bd1cd1b4c9455ab68f284a35a7bc40",
       "version_major": 2,
       "version_minor": 0
      },
      "text/plain": [
       "FloatSlider(value=2.0, description='Angular velocity of the direct control', max=3.0, min=1.0)"
      ]
     },
     "metadata": {},
     "output_type": "display_data"
    },
    {
     "data": {
      "application/vnd.jupyter.widget-view+json": {
       "model_id": "407e4fd43cc8491da5977022a6518cf6",
       "version_major": 2,
       "version_minor": 0
      },
      "text/plain": [
       "FloatSlider(value=30.0, description='Dimension of the plot', max=80.0, min=10.0)"
      ]
     },
     "metadata": {},
     "output_type": "display_data"
    },
    {
     "data": {
      "application/vnd.jupyter.widget-view+json": {
       "model_id": "54aff49a128d4be4bd35f1d89d4a8912",
       "version_major": 2,
       "version_minor": 0
      },
      "text/plain": [
       "FloatSlider(value=20.0, description='ZOOM', max=50.0, min=5.0)"
      ]
     },
     "metadata": {},
     "output_type": "display_data"
    },
    {
     "data": {
      "application/vnd.jupyter.widget-view+json": {
       "model_id": "b0035c12a6ee49e2a43bb3c02715b47e",
       "version_major": 2,
       "version_minor": 0
      },
      "text/plain": [
       "Canvas(toolbar=Toolbar(toolitems=[('Home', 'Reset original view', 'home', 'home'), ('Back', 'Back to previous …"
      ]
     },
     "metadata": {},
     "output_type": "display_data"
    },
    {
     "data": {
      "application/vnd.jupyter.widget-view+json": {
       "model_id": "44667ee451ec4db0ba7e59edf291729e",
       "version_major": 2,
       "version_minor": 0
      },
      "text/plain": [
       "GridBox(children=(Button(description='Start random target', layout=Layout(grid_area='b1', width='auto'), style…"
      ]
     },
     "metadata": {},
     "output_type": "display_data"
    }
   ],
   "source": [
    "#slider to set linear velocity\n",
    "linear_velocity = widgets.FloatSlider()\n",
    "linear_velocity.min=0\n",
    "linear_velocity.max=1\n",
    "linear_velocity.description='Linear velocity of the direct control'\n",
    "linear_velocity.value='0.5'\n",
    "\n",
    "#slider to set angular velocity\n",
    "angular_velocity = widgets.FloatSlider()\n",
    "angular_velocity.min=1\n",
    "angular_velocity.max=3\n",
    "angular_velocity.description='Angular velocity of the direct control'\n",
    "angular_velocity.value='2'\n",
    "\n",
    "#slider to set the lenght of the array\n",
    "slider_lenght_plot_pos = widgets.FloatSlider()\n",
    "slider_lenght_plot_pos.min=10\n",
    "slider_lenght_plot_pos.max=150\n",
    "slider_lenght_plot_pos.description='Dimension of the plot'\n",
    "slider_lenght_plot_pos.value='30'\n",
    "\n",
    "#slider to set the zoom\n",
    "slider_zoom = widgets.FloatSlider()\n",
    "slider_zoom.min=5\n",
    "slider_zoom.max=50\n",
    "slider_zoom.description='ZOOM'\n",
    "slider_zoom.value='20'\n",
    "\n",
    "#Sliders are displayed\n",
    "display(linear_velocity,angular_velocity,slider_lenght_plot_pos,slider_zoom)\n",
    "\n",
    "#x,y position of the robot for the plot\n",
    "x_position, y_position = [] , []\n",
    "\n",
    "#Visualizer class is used for the plot\n",
    "class Visualiser:\n",
    "    def __init__(self):\n",
    "        \n",
    "        self.fig, self.ax = plt.subplots()\n",
    "        self.ln, = plt.plot([], [], 'ro')\n",
    "    \n",
    "    def plot_init(self):\n",
    "    \n",
    "        #axes limit depends from the slider zoom value\n",
    "        self.ax.set_xlim(-slider_zoom.value, slider_zoom.value)\n",
    "        self.ax.set_ylim(-slider_zoom.value, slider_zoom.value)\n",
    "        return self.ln\n",
    "    \n",
    "    def update_plot(self,  frame):\n",
    "        global x_position,y_position,pos_xlim,pos_ylim\n",
    "        \n",
    "        #Data are updated\n",
    "        self.ln.set_data(x_position,  y_position)\n",
    "        \n",
    "        #axes limit depends from the slider zoom value\n",
    "        self.ax.set_xlim(-slider_zoom.value, slider_zoom.value)\n",
    "        self.ax.set_ylim(-slider_zoom.value, slider_zoom.value)\n",
    "        return self.ln\n",
    "\n",
    "#Move class used to control the robot from buttons\n",
    "#robot_moving_random=the robot is moving automatically to a random position\n",
    "#robot_moving_command= the user is directly controlling the robot\n",
    "class Move:\n",
    "    #robot start moving automatically\n",
    "    def start(self, event):\n",
    "        global robot_moving_random,robot_moving_command, linear_velocity, angular_velocity,lin_vel_requested,ang_vel\n",
    "        #if the robot is controlled by the user stop it before giving random position target\n",
    "        if not robot_moving_random:\n",
    "            if robot_moving_command:\n",
    "               self.stop(event)\n",
    "            \n",
    "            msg=CommandRequest()\n",
    "            msg.command='start'\n",
    "            msg.lin_vel=linear_velocity.value\n",
    "            msg.ang_vel=angular_velocity.value\n",
    "            \n",
    "            #the client is called\n",
    "            ui_client(msg)\n",
    "            robot_moving_random=True\n",
    "    #Used to stop the robot in both circumstances\n",
    "    def stop(self, event):\n",
    "        global robot_moving_random,robot_moving_command,lin_vel_requested,ang_vel_requested,number_stopped_targets\n",
    "        if robot_moving_random:\n",
    "            \n",
    "            msg=CommandRequest()\n",
    "            msg.command='stop'\n",
    "            \n",
    "            #call the client to stop the robot\n",
    "            ui_client(msg)\n",
    "            robot_moving_random=False\n",
    "            \n",
    "            #Number of times the robot automatic control has been stopped is incremented\n",
    "            number_stopped_targets=number_stopped_targets+1\n",
    "            \n",
    "        if robot_moving_command:\n",
    "            twist_msg = Twist()\n",
    "            pub_.publish(twist_msg)\n",
    "            robot_moving_command=False\n",
    "        lin_vel_requested=0\n",
    "        ang_vel_requested=0\n",
    "\n",
    "\n",
    "    #The robot will go up thanks to this code\n",
    "    def moveup(self, event):\n",
    "        global robot_moving_random, robot_moving_command, linear_velocity,lin_vel_requested\n",
    "        \n",
    "        if robot_moving_random:\n",
    "            self.stop(event)\n",
    "            time.sleep(1)\n",
    "        \n",
    "        twist_msg = Twist()\n",
    "        twist_msg.linear.x = linear_velocity.value\n",
    "        twist_msg.angular.z = 0\n",
    "        pub_.publish(twist_msg)\n",
    "        robot_moving_command=True\n",
    "        lin_vel_requested=linear_velocity.value\n",
    "        \n",
    "    #The robot will go down thanks to this code\n",
    "    def movedown(self, event):\n",
    "        global robot_moving_random, robot_moving_command,linear_velocity,lin_vel_requested\n",
    "        \n",
    "        if robot_moving_random:\n",
    "            self.stop(event)\n",
    "            time.sleep(1)\n",
    "        \n",
    "        twist_msg = Twist()\n",
    "        twist_msg.linear.x = -linear_velocity.value\n",
    "        twist_msg.angular.z = 0\n",
    "        pub_.publish(twist_msg)\n",
    "        robot_moving_command=True\n",
    "        \n",
    "        lin_vel_requested=-linear_velocity.value\n",
    "        \n",
    "    #The robot will rotate left thanks to this code\n",
    "    def moveleft(self, event):\n",
    "        global robot_moving_random, robot_moving_command,angular_velocity,ang_vel_requested\n",
    "        \n",
    "        if robot_moving_random:\n",
    "            self.stop(event)\n",
    "            time.sleep(1)\n",
    "        \n",
    "        twist_msg = Twist()\n",
    "        twist_msg.linear.x = 0\n",
    "        twist_msg.angular.z = -angular_velocity.value\n",
    "        pub_.publish(twist_msg)\n",
    "        robot_moving_command=True\n",
    "        \n",
    "        ang_vel_requested=-angular_velocity.value\n",
    "        \n",
    "    #The robot will rotate right thanks to this code\n",
    "    def moveright(self, event):\n",
    "        global robot_moving_random, robot_moving_command,angular_velocity,ang_vel_requested\n",
    "\n",
    "        if robot_moving_random:\n",
    "            self.stop(event)\n",
    "            time.sleep(1)\n",
    "                    \n",
    "        twist_msg = Twist()\n",
    "        twist_msg.linear.x = 0\n",
    "        twist_msg.angular.z = angular_velocity.value\n",
    "        pub_.publish(twist_msg)\n",
    "        robot_moving_command=True\n",
    "        ang_vel_requested=angular_velocity.value\n",
    "\n",
    "vis = Visualiser()\n",
    "       \n",
    "#buttons are initiliazed and then linked to their specific voids\n",
    "robot = Move()\n",
    "b1  = Button(description='Start random target',layout=Layout(width='auto', align=\"center\", grid_area='b1'),style=ButtonStyle(button_color='lightblue'))\n",
    "b2  = Button(description='Stop',layout=Layout(width='auto', grid_area='b2'),style=ButtonStyle(button_color='red'))\n",
    "up  = Button(description='Move up',layout=Layout(width='auto', grid_area='up'),style=ButtonStyle(button_color='moccasin'))\n",
    "down  = Button(description='Move down',layout=Layout(width='auto', grid_area='down'),style=ButtonStyle(button_color='moccasin'))\n",
    "left  = Button(description='Rotate left',layout=Layout(width='auto', grid_area='left'),style=ButtonStyle(button_color='moccasin'))\n",
    "right  = Button(description='Rotate right',layout=Layout(width='auto', grid_area='right'),style=ButtonStyle(button_color='moccasin'))\n",
    "\n",
    "b1.on_click(robot.start)\n",
    "b2.on_click(robot.stop)\n",
    "up.on_click(robot.moveup)\n",
    "left.on_click(robot.moveleft)\n",
    "right.on_click(robot.moveright)\n",
    "down.on_click(robot.movedown)\n",
    "\n",
    "#gridbox displayed in a specific order\n",
    "GridBox(children=[b1,  b2, up, left, right, down],layout=Layout(width='40%',grid_template_rows='auto auto auto',grid_template_columns='33% 33% 33%',grid_template_areas='''\". up .\"\" left down right \"\" b1 b2 .\"'''))\n"
   ]
  },
  {
   "cell_type": "markdown",
   "id": "c3ecff66",
   "metadata": {},
   "source": [
    "In the above paragraph it will be implemented the possibility of directly control the robot from buttons, and to see its position in a plot\n",
    "\n",
    "Four sliders are provided:\n",
    "- The first and the second one will let you set the velocity of the robot, then if you use the buttons you will   see the difference.\n",
    "- The third one is used to set the array lenght of the plot.\n",
    "- The fourth one is used to zoom in and out in the plot"
   ]
  },
  {
   "cell_type": "code",
   "execution_count": 3,
   "id": "607ddf4e",
   "metadata": {},
   "outputs": [
    {
     "data": {
      "application/vnd.jupyter.widget-view+json": {
       "model_id": "683b72a61aac4799afac7a99471bdfa4",
       "version_major": 2,
       "version_minor": 0
      },
      "text/plain": [
       "Canvas(toolbar=Toolbar(toolitems=[('Home', 'Reset original view', 'home', 'home'), ('Back', 'Back to previous …"
      ]
     },
     "metadata": {},
     "output_type": "display_data"
    },
    {
     "data": {
      "application/vnd.jupyter.widget-view+json": {
       "model_id": "43b87b5313fb43e8be948f9eeb2fd26c",
       "version_major": 2,
       "version_minor": 0
      },
      "text/plain": [
       "Canvas(toolbar=Toolbar(toolitems=[('Home', 'Reset original view', 'home', 'home'), ('Back', 'Back to previous …"
      ]
     },
     "metadata": {},
     "output_type": "display_data"
    }
   ],
   "source": [
    "#slider to set the array lenght that will be plotted\n",
    "slider_lenght_plot_vel = widgets.FloatSlider()\n",
    "slider_lenght_plot_vel.min=10\n",
    "slider_lenght_plot_vel.max=80\n",
    "slider_lenght_plot_vel.description='Dimension of the plot'\n",
    "slider_lenght_plot_vel.value='30'\n",
    "\n",
    "\n",
    "#Initialization of the two figures\n",
    "fig1, ax1 = plt.subplots()\n",
    "fig2, ax2 = plt.subplots()\n",
    "ax1.set_xlim(( 0, 5))\n",
    "ax1.set_ylim((0, 0.5))\n",
    "ax2.set_xlim(( 0, 5))\n",
    "ax2.set_ylim((0, 0.5))\n",
    "line1, = ax1.plot([], [], lw=2)\n",
    "line2, = ax2.plot([], [], lw=2)\n",
    "plotlays, plotcols = [2], [\"black\",\"red\"]\n",
    "lines1 = []\n",
    "lines2 = []\n",
    "for index in range(2):\n",
    "    lobj1 = ax1.plot([],[],lw=2,color=plotcols[index])[0]\n",
    "    lines1.append(lobj1)\n",
    "    lobj2 = ax2.plot([],[],lw=2,color=plotcols[index])[0]\n",
    "    lines2.append(lobj2)\n",
    "def init1():\n",
    "    for line1 in lines1:\n",
    "        line1.set_data([],[])\n",
    "    return lines1\n",
    "def init2():\n",
    "    for line2 in lines2:\n",
    "        line2.set_data([],[])\n",
    "    return lines2\n",
    "\n",
    "#The x coordinate of all the following variables will always be the time\n",
    "#x1_fig1,y1_fig1 rapresents the x,y value of the actual linear velocity \n",
    "#x2_fig1,y2_fig1 rapresents the x,y value of the requested linear velocity \n",
    "#x1_fig2,y1_fig2 rapresents the x,y value of the actual angular velocity \n",
    "#x2_fig2,y2_fig2 rapresents the x,y value of the requested angular velocity \n",
    "x1_fig1,y1_fig1 = [],[]\n",
    "x2_fig1,y2_fig1 = [],[]\n",
    "x1_fig2,y1_fig2 = [],[]\n",
    "x2_fig2,y2_fig2 = [],[]\n",
    "frame_num = 100\n",
    "\n",
    "#this two functions will update the plot\n",
    "def animate1(i):\n",
    "    global ax1\n",
    "    #Setting the x_value in this way will let the point be always in the center of the x\n",
    "    ax1.set_xlim( x_value-5, x_value+5)\n",
    "    ax1.set_ylim(-1.2, 1.2)\n",
    "    xlist = [x1_fig1, x2_fig1]\n",
    "    ylist = [y1_fig1, y2_fig1]\n",
    "    for lnum1,line1 in enumerate(lines1):\n",
    "        line1.set_data(xlist[lnum1], ylist[lnum1]) # set data for each line separately. \n",
    "    return lines1\n",
    "\n",
    "def animate2(i):\n",
    "    global ax2\n",
    "    #Setting the x_value in this way will let the point be always in the center of the x\n",
    "    ax2.set_xlim( x_value-5, x_value+5)\n",
    "    ax2.set_ylim(-3, 3)\n",
    "    xlist = [x1_fig2, x2_fig2]\n",
    "    ylist = [y1_fig2, y2_fig2]\n",
    "    for lnum2,line2 in enumerate(lines2):\n",
    "        line2.set_data(xlist[lnum2], ylist[lnum2]) # set data for each line separately. \n",
    "    return lines2\n"
   ]
  },
  {
   "cell_type": "markdown",
   "id": "1b64c870",
   "metadata": {},
   "source": [
    "In the above paragraph two plot will be shown:\n",
    "- In the first one it will be shown the difference between the linear velocity requested and the current one\n",
    "- In the second one it will be shown the difference between the angular velocity requested and the current one\n",
    "\n",
    "There is also a slider to set the array lenght that will be plotted"
   ]
  },
  {
   "cell_type": "code",
   "execution_count": 4,
   "id": "37e162a4",
   "metadata": {},
   "outputs": [
    {
     "data": {
      "application/vnd.jupyter.widget-view+json": {
       "model_id": "364d33c6b6b94fe19a9894972d739128",
       "version_major": 2,
       "version_minor": 0
      },
      "text/plain": [
       "VBox(children=(HBox(children=(Button(description='Stop', style=ButtonStyle()),)), Output(layout=Layout(border=…"
      ]
     },
     "metadata": {},
     "output_type": "display_data"
    }
   ],
   "source": [
    "#this is the /go_to_point_action/feedback callback\n",
    "def action_feedback(msg):\n",
    "    global number_reached_targets,hist_times_values\n",
    "    \n",
    "    #if the robot has reached the target, update the number of times that the robot has reached the target, and \n",
    "    #update the histogram\n",
    "    if msg.feedback.stat==\"Target reached!\":\n",
    "        number_reached_targets=number_reached_targets+1\n",
    "        hist_times_values.append(time.time()-initial_time)\n",
    "#this is the callback from /odom.     \n",
    "def odom_callback(msg):\n",
    "    global x_value,y_lin_msg,initial_time,x_position,y_position\n",
    "    \n",
    "    #x_value rapresents the x value of all the plot, since it rapresent how much time has passed from the beginning \n",
    "    x_value=time.time()-initial_time\n",
    "    \n",
    "    #current linear and angular values updated\n",
    "    y_lin_msg=msg.twist.twist.linear.x\n",
    "    y_ang_msg=msg.twist.twist.angular.z\n",
    "    \n",
    "    x1_fig1.append(x_value)\n",
    "    y1_fig1.append(y_lin_msg)\n",
    "    x1_fig2.append(x_value)\n",
    "    y1_fig2.append(y_ang_msg)\n",
    "    \n",
    "    x2_fig1.append(x_value)\n",
    "    y2_fig1.append(lin_vel_requested)\n",
    "    x2_fig2.append(x_value)\n",
    "    y2_fig2.append(-ang_vel_requested)\n",
    "    \n",
    "    #The below code is used to set the arrays of the right dimension, which will depend from the sliders values.\n",
    "    #At first it will check if the array is too bigger\n",
    "    if len(x1_fig1)>slider_lenght_plot_vel.value :\n",
    "        #Then it will eliminate the first element until the array is not of the current dimension\n",
    "        for i in range(0,int(len(x1_fig1)-slider_lenght_plot_vel.value)) :\n",
    "            x1_fig1.pop(0)\n",
    "            y1_fig1.pop(0)\n",
    "            x1_fig2.pop(0)\n",
    "            y1_fig2.pop(0)\n",
    "            x2_fig1.pop(0)\n",
    "            y2_fig1.pop(0)\n",
    "            x2_fig2.pop(0)\n",
    "            y2_fig2.pop(0)\n",
    "    \n",
    "    \n",
    "    \n",
    "    y_position.append(msg.pose.pose.position.y)\n",
    "    x_position.append(msg.pose.pose.position.x)\n",
    "    \n",
    "    #this procedure is the same of the above one\n",
    "    if len(x_position)>slider_lenght_plot_pos.value :\n",
    "        for i in range(0,int(len(x_position)-slider_lenght_plot_pos.value)) :\n",
    "            x_position.pop(0)\n",
    "            y_position.pop(0)\n",
    "\n",
    "#subscribers\n",
    "jr.subscribe('/odom', Odometry, odom_callback)\n",
    "jr.subscribe('/go_to_point_action/feedback',go_to_pointActionFeedback, action_feedback)"
   ]
  },
  {
   "cell_type": "markdown",
   "id": "3ad3c8a3",
   "metadata": {},
   "source": [
    "In this code no plot will be executed, but most of the variables will be updated thanks to the callback from two subscribers:\n",
    "- /go_to_point_action/feedback -----> To know if the target has been reached\n",
    "- /odom ------> To check current values of the robot"
   ]
  },
  {
   "cell_type": "code",
   "execution_count": 5,
   "id": "d6c95756-37d6-4f1e-9f66-8153796c8633",
   "metadata": {},
   "outputs": [
    {
     "data": {
      "application/vnd.jupyter.widget-view+json": {
       "model_id": "7ed417cba11f4aab8f342f3bdb6da29e",
       "version_major": 2,
       "version_minor": 0
      },
      "text/plain": [
       "Canvas(toolbar=Toolbar(toolitems=[('Home', 'Reset original view', 'home', 'home'), ('Back', 'Back to previous …"
      ]
     },
     "metadata": {},
     "output_type": "display_data"
    }
   ],
   "source": [
    "fig3 = plt.figure()\n",
    "ax3 = fig3.add_axes([0,0,1,1])\n",
    "langs = ['reached', 'cancelled']\n",
    "bar_array = [0,0]\n",
    "ax3.bar(langs,bar_array,color = 'r', width = 0.25)\n",
    "\n",
    "\n",
    "def animate3(i):\n",
    "    global ax3\n",
    "    if number_reached_targets-number_stopped_targets >0 :\n",
    "        bar_array = [number_stopped_targets,number_reached_targets-number_stopped_targets]\n",
    "    else:\n",
    "        bar_array = [number_stopped_targets,0]\n",
    "    ax3.bar(langs,bar_array,color = 'r', width = 0.25)\n",
    "    \n",
    "    "
   ]
  },
  {
   "cell_type": "markdown",
   "id": "98c944bd",
   "metadata": {},
   "source": [
    "Here it will be plotted a bar plot which will make us understand how many times the robot has reached its position vs how many time the its automatic control has been stopped."
   ]
  },
  {
   "cell_type": "code",
   "execution_count": 6,
   "id": "7fe95d91-f5d0-4995-8a36-7990b92a081d",
   "metadata": {},
   "outputs": [
    {
     "data": {
      "application/vnd.jupyter.widget-view+json": {
       "model_id": "3531a227457d4f0699973b255236032a",
       "version_major": 2,
       "version_minor": 0
      },
      "text/plain": [
       "Canvas(toolbar=Toolbar(toolitems=[('Home', 'Reset original view', 'home', 'home'), ('Back', 'Back to previous …"
      ]
     },
     "metadata": {},
     "output_type": "display_data"
    }
   ],
   "source": [
    "import matplotlib.mlab as mlab\n",
    "import matplotlib.pyplot as plt\n",
    "fig4=plt.figure()\n",
    "step=5\n",
    "num_bins=1\n",
    "n, bins, patches = plt.hist(hist_times_values, num_bins, facecolor='blue', alpha=0.5)\n",
    "\n",
    "def animate4(i):\n",
    "    if len(hist_times_values)>0 :\n",
    "        larghezza=hist_times_values[len(hist_times_values)-1]-hist_times_values[0]\n",
    "        num_bins=int(larghezza/step)\n",
    "        if num_bins==0 :\n",
    "            num_bins=1\n",
    "        plt.hist(hist_times_values, num_bins, facecolor='blue', alpha=0.5)\n",
    "    \n",
    "    \n",
    "    "
   ]
  },
  {
   "cell_type": "markdown",
   "id": "7207cd76",
   "metadata": {},
   "source": [
    "Here above it will be plotted an histogram which will show the number of times the robot has reached a target with respect to time."
   ]
  },
  {
   "cell_type": "code",
   "execution_count": 7,
   "id": "90ba5163",
   "metadata": {},
   "outputs": [],
   "source": [
    "\n",
    "anim0 = FuncAnimation(vis.fig, vis.update_plot,  init_func=vis.plot_init)  \n",
    "\n",
    "anim1 = animation.FuncAnimation(fig1, animate1, init_func=init1,\n",
    "                               frames=frame_num, interval=20, blit=True)\n",
    "anim2 = animation.FuncAnimation(fig2, animate2, init_func=init2,\n",
    "                               frames=frame_num, interval=20, blit=True)\n",
    "anim3 = animation.FuncAnimation(fig3, animate3,\n",
    "                               frames=frame_num, interval=20, blit=True)\n",
    "anim4 = animation.FuncAnimation(fig4,animate4,\n",
    "                               frames=frame_num, interval=20, blit=True)      "
   ]
  },
  {
   "cell_type": "markdown",
   "id": "ee0cf0fa",
   "metadata": {},
   "source": [
    "Thanks to the code here above all the plots will be updated"
   ]
  }
 ],
 "metadata": {
  "hide_input": false,
  "kernelspec": {
   "display_name": "Python 3",
   "language": "python",
   "name": "python3"
  },
  "language_info": {
   "codemirror_mode": {
    "name": "ipython",
    "version": 3
   },
   "file_extension": ".py",
   "mimetype": "text/x-python",
   "name": "python",
   "nbconvert_exporter": "python",
   "pygments_lexer": "ipython3",
   "version": "3.8.5"
  },
  "toc": {
   "base_numbering": 1,
   "nav_menu": {},
   "number_sections": true,
   "sideBar": true,
   "skip_h1_title": false,
   "title_cell": "Table of Contents",
   "title_sidebar": "Contents",
   "toc_cell": false,
   "toc_position": {},
   "toc_section_display": true,
   "toc_window_display": false
  },
  "varInspector": {
   "cols": {
    "lenName": 16,
    "lenType": 16,
    "lenVar": 40
   },
   "kernels_config": {
    "python": {
     "delete_cmd_postfix": "",
     "delete_cmd_prefix": "del ",
     "library": "var_list.py",
     "varRefreshCmd": "print(var_dic_list())"
    },
    "r": {
     "delete_cmd_postfix": ") ",
     "delete_cmd_prefix": "rm(",
     "library": "var_list.r",
     "varRefreshCmd": "cat(var_dic_list()) "
    }
   },
   "types_to_exclude": [
    "module",
    "function",
    "builtin_function_or_method",
    "instance",
    "_Feature"
   ],
   "window_display": false
  }
 },
 "nbformat": 4,
 "nbformat_minor": 5
}

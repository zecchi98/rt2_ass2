{
 "cells": [
  {
   "cell_type": "code",
   "execution_count": 1,
   "id": "bd2883b3",
   "metadata": {
    "ExecuteTime": {
     "end_time": "2021-05-21T19:46:33.442423Z",
     "start_time": "2021-05-21T19:46:31.488426Z"
    },
    "scrolled": true
   },
   "outputs": [],
   "source": [
    "%matplotlib widget\n",
    "import numpy as np\n",
    "import matplotlib.pyplot as plt\n",
    "import jupyros as jr\n",
    "import rospy\n",
    "import time\n",
    "from nav_msgs.msg import Odometry\n",
    "from matplotlib import animation, rc\n",
    "from geometry_msgs.msg import Twist\n",
    "import ipywidgets as widgets\n",
    "from ipywidgets import Button, Layout, ButtonStyle, GridBox, VBox, HBox\n",
    "import rospy\n",
    "import time\n",
    "from rt2_ass2.srv import Command,CommandRequest\n",
    "from rt2_ass2.msg import go_to_pointActionResult,go_to_pointActionFeedback\n",
    "from geometry_msgs.msg import Twist, Point\n",
    "from nav_msgs.msg import Odometry\n",
    "from rt2_ass2.srv import Position\n",
    "import math\n",
    "import actionlib\n",
    "import actionlib.msg\n",
    "import rt2_ass2.msg\n",
    "import jupyros as jr\n",
    "\n",
    "import numpy as np\n",
    "import matplotlib.pyplot as plt\n",
    "from matplotlib.animation import FuncAnimation\n",
    "import rospy\n",
    "from nav_msgs.msg import Odometry\n",
    "\n",
    "\n",
    "initial_time=time.time()\n",
    "prova_x=0\n",
    "prova_y=0\n",
    "hist_times_values=[]\n",
    "number_reached_targets=0\n",
    "number_stopped_targets=0\n",
    "rospy.init_node('robot_control_node')\n",
    "\n",
    "pub = rospy.Publisher('cmd_vel', Twist, queue_size=10)\n",
    "\n",
    "msg = Twist()\n"
   ]
  },
  {
   "cell_type": "code",
   "execution_count": 2,
   "id": "7fe6c718-35a8-45b8-8263-8eedbffcf7e7",
   "metadata": {},
   "outputs": [
    {
     "data": {
      "application/vnd.jupyter.widget-view+json": {
       "model_id": "ced732e61ee74290a5268538e5ac5def",
       "version_major": 2,
       "version_minor": 0
      },
      "text/plain": [
       "FloatSlider(value=0.5, description='Linear velocity of the direct control', max=1.0)"
      ]
     },
     "metadata": {},
     "output_type": "display_data"
    },
    {
     "data": {
      "application/vnd.jupyter.widget-view+json": {
       "model_id": "0026da183d204727b357e7eeb2dda99c",
       "version_major": 2,
       "version_minor": 0
      },
      "text/plain": [
       "FloatSlider(value=2.0, description='Angular velocity of the direct control', max=3.0, min=1.0)"
      ]
     },
     "metadata": {},
     "output_type": "display_data"
    },
    {
     "data": {
      "application/vnd.jupyter.widget-view+json": {
       "model_id": "b20b27f7748f4d32b15cfd08f0bb2c72",
       "version_major": 2,
       "version_minor": 0
      },
      "text/plain": [
       "GridBox(children=(Button(description='Start random target', layout=Layout(grid_area='b1', width='auto'), style…"
      ]
     },
     "metadata": {},
     "output_type": "display_data"
    }
   ],
   "source": [
    "\n",
    "robot_moving_random=False\n",
    "robot_moving_command=False\n",
    "ui_client = rospy.ServiceProxy('/user_interface', Command)\n",
    "pub_ = rospy.Publisher('/cmd_vel', Twist, queue_size=1)\n",
    "\n",
    "linear_velocity = widgets.FloatSlider()\n",
    "linear_velocity.min=0\n",
    "linear_velocity.max=1\n",
    "linear_velocity.description='Linear velocity of the direct control'\n",
    "linear_velocity.value='0.5'\n",
    "\n",
    "angular_velocity = widgets.FloatSlider()\n",
    "angular_velocity.min=1\n",
    "angular_velocity.max=3\n",
    "angular_velocity.description='Angular velocity of the direct control'\n",
    "angular_velocity.value='2'\n",
    "display(linear_velocity,angular_velocity)\n",
    "\n",
    "lin_vel_requested=0\n",
    "ang_vel_requested=0\n",
    "\n",
    "class Visualiser:\n",
    "    def __init__(self):\n",
    "        self.fig, self.ax = plt.subplots()\n",
    "        self.ln, = plt.plot([], [], 'ro')\n",
    "        self.x_data, self.y_data = [] , []\n",
    "    def plot_init(self):\n",
    "        self.ax.set_xlim(-5, 5)\n",
    "        self.ax.set_ylim(-5, 5)\n",
    "        return self.ln\n",
    "    def odom_callback(self,  msg):\n",
    "        self.y_data.append(msg.pose.pose.position.y)\n",
    "        self.x_data.append(msg.pose.pose.position.x)\n",
    "    def update_plot(self,  frame):\n",
    "        self.ln.set_data(self.x_data,  self.y_data)\n",
    "        return self.ln\n",
    "\n",
    "class Move:\n",
    "    ind = 0\n",
    "    def start(self, event):\n",
    "        global robot_moving_random,robot_moving_command, linear_velocity, angular_velocity,lin_vel_requested,ang_vel\n",
    "        \n",
    "        if not robot_moving_random:\n",
    "            if robot_moving_command:\n",
    "               self.stop(event)\n",
    "            \n",
    "            msg=CommandRequest()\n",
    "            msg.command='start'\n",
    "            msg.lin_vel=linear_velocity.value\n",
    "            msg.ang_vel=angular_velocity.value\n",
    "            ui_client(msg)\n",
    "            robot_moving_random=True\n",
    "\n",
    "    def stop(self, event):\n",
    "        global robot_moving_random,robot_moving_command,lin_vel_requested,ang_vel_requested,number_stopped_targets\n",
    "        if robot_moving_random:\n",
    "            \n",
    "            msg=CommandRequest()\n",
    "            msg.command='stop'\n",
    "            ui_client(msg)\n",
    "            robot_moving_random=False\n",
    "            number_stopped_targets=number_stopped_targets+1\n",
    "            \n",
    "        if robot_moving_command:\n",
    "            twist_msg = Twist()\n",
    "            pub_.publish(twist_msg)\n",
    "            robot_moving_command=False\n",
    "        lin_vel_requested=0\n",
    "        ang_vel_requested=0\n",
    "\n",
    "    def moveup(self, event):\n",
    "        global robot_moving_random, robot_moving_command, linear_velocity,lin_vel_requested\n",
    "        \n",
    "        if robot_moving_random:\n",
    "            self.stop(event)\n",
    "            time.sleep(1)\n",
    "        \n",
    "        twist_msg = Twist()\n",
    "        twist_msg.linear.x = linear_velocity.value\n",
    "        twist_msg.angular.z = 0\n",
    "        pub_.publish(twist_msg)\n",
    "        robot_moving_command=True\n",
    "        lin_vel_requested=linear_velocity.value\n",
    "    def movedown(self, event):\n",
    "        global robot_moving_random, robot_moving_command,linear_velocity,lin_vel_requested\n",
    "        \n",
    "        if robot_moving_random:\n",
    "            self.stop(event)\n",
    "            time.sleep(1)\n",
    "        \n",
    "        twist_msg = Twist()\n",
    "        twist_msg.linear.x = -linear_velocity.value\n",
    "        twist_msg.angular.z = 0\n",
    "        pub_.publish(twist_msg)\n",
    "        robot_moving_command=True\n",
    "        \n",
    "        lin_vel_requested=-linear_velocity.value\n",
    "    def moveleft(self, event):\n",
    "        global robot_moving_random, robot_moving_command,angular_velocity,ang_vel_requested\n",
    "        \n",
    "        if robot_moving_random:\n",
    "            self.stop(event)\n",
    "            time.sleep(1)\n",
    "        \n",
    "        twist_msg = Twist()\n",
    "        twist_msg.linear.x = 0\n",
    "        twist_msg.angular.z = -angular_velocity.value\n",
    "        pub_.publish(twist_msg)\n",
    "        robot_moving_command=True\n",
    "        \n",
    "        ang_vel_requested=-angular_velocity.value\n",
    "    def moveright(self, event):\n",
    "        global robot_moving_random, robot_moving_command,angular_velocity,ang_vel_requested\n",
    "\n",
    "        if robot_moving_random:\n",
    "            self.stop(event)\n",
    "            time.sleep(1)\n",
    "                    \n",
    "        twist_msg = Twist()\n",
    "        twist_msg.linear.x = 0\n",
    "        twist_msg.angular.z = angular_velocity.value\n",
    "        pub_.publish(twist_msg)\n",
    "        robot_moving_command=True\n",
    "        ang_vel_requested=angular_velocity.value\n",
    "\n",
    "        \n",
    "        \n",
    "robot = Move()\n",
    "b1  = Button(description='Start random target',layout=Layout(width='auto', align=\"center\", grid_area='b1'),style=ButtonStyle(button_color='lightblue'))\n",
    "b2  = Button(description='Stop',layout=Layout(width='auto', grid_area='b2'),style=ButtonStyle(button_color='red'))\n",
    "up  = Button(description='Move up',layout=Layout(width='auto', grid_area='up'),style=ButtonStyle(button_color='moccasin'))\n",
    "down  = Button(description='Move down',layout=Layout(width='auto', grid_area='down'),style=ButtonStyle(button_color='moccasin'))\n",
    "left  = Button(description='Rotate left',layout=Layout(width='auto', grid_area='left'),style=ButtonStyle(button_color='moccasin'))\n",
    "right  = Button(description='Rotate right',layout=Layout(width='auto', grid_area='right'),style=ButtonStyle(button_color='moccasin'))\n",
    "\n",
    "b1.on_click(robot.start)\n",
    "b2.on_click(robot.stop)\n",
    "up.on_click(robot.moveup)\n",
    "left.on_click(robot.moveleft)\n",
    "right.on_click(robot.moveright)\n",
    "down.on_click(robot.movedown)\n",
    "\n",
    "GridBox(children=[b1,  b2, up, left, right, down],layout=Layout(width='40%',grid_template_rows='auto auto auto',grid_template_columns='33% 33% 33%',grid_template_areas='''\". up .\"\" left down right \"\" b1 b2 .\"'''))\n"
   ]
  },
  {
   "cell_type": "code",
   "execution_count": 3,
   "id": "607ddf4e",
   "metadata": {},
   "outputs": [
    {
     "data": {
      "application/vnd.jupyter.widget-view+json": {
       "model_id": "1c9111af882645fea5ddef71d30db355",
       "version_major": 2,
       "version_minor": 0
      },
      "text/plain": [
       "Canvas(toolbar=Toolbar(toolitems=[('Home', 'Reset original view', 'home', 'home'), ('Back', 'Back to previous …"
      ]
     },
     "metadata": {},
     "output_type": "display_data"
    },
    {
     "data": {
      "application/vnd.jupyter.widget-view+json": {
       "model_id": "9f2e4c21f8b548bfbed8100449e668b8",
       "version_major": 2,
       "version_minor": 0
      },
      "text/plain": [
       "Canvas(toolbar=Toolbar(toolitems=[('Home', 'Reset original view', 'home', 'home'), ('Back', 'Back to previous …"
      ]
     },
     "metadata": {},
     "output_type": "display_data"
    }
   ],
   "source": [
    "fig1, ax1 = plt.subplots()\n",
    "fig2, ax2 = plt.subplots()\n",
    "\n",
    "ax1.set_xlim(( 0, 5))\n",
    "ax1.set_ylim((0, 0.5))\n",
    "ax2.set_xlim(( 0, 5))\n",
    "ax2.set_ylim((0, 0.5))\n",
    "\n",
    "line1, = ax1.plot([], [], lw=2)\n",
    "line2, = ax2.plot([], [], lw=2)\n",
    "plt.xlabel('Longitude')\n",
    "plt.ylabel('Latitude')\n",
    "\n",
    "plotlays, plotcols = [2], [\"black\",\"red\"]\n",
    "lines1 = []\n",
    "lines2 = []\n",
    "for index in range(2):\n",
    "    lobj1 = ax1.plot([],[],lw=2,color=plotcols[index])[0]\n",
    "    lines1.append(lobj1)\n",
    "    lobj2 = ax2.plot([],[],lw=2,color=plotcols[index])[0]\n",
    "    lines2.append(lobj2)\n",
    "    \n",
    "\n",
    "\n",
    "def init1():\n",
    "    for line1 in lines1:\n",
    "        line1.set_data([],[])\n",
    "    return lines1\n",
    "def init2():\n",
    "    for line2 in lines2:\n",
    "        line2.set_data([],[])\n",
    "    return lines2\n",
    "\n",
    "\n",
    "x1_fig1,y1_fig1 = [],[]\n",
    "x2_fig1,y2_fig1 = [],[]\n",
    "x1_fig2,y1_fig2 = [],[]\n",
    "x2_fig2,y2_fig2 = [],[]\n",
    "# fake data\n",
    "frame_num = 100"
   ]
  },
  {
   "cell_type": "code",
   "execution_count": 4,
   "id": "37e162a4",
   "metadata": {},
   "outputs": [
    {
     "data": {
      "application/vnd.jupyter.widget-view+json": {
       "model_id": "4d9ca3a34d9b408aae6505150f6cdab8",
       "version_major": 2,
       "version_minor": 0
      },
      "text/plain": [
       "VBox(children=(HBox(children=(Button(description='Stop', style=ButtonStyle()),)), Output(layout=Layout(border=…"
      ]
     },
     "metadata": {},
     "output_type": "display_data"
    }
   ],
   "source": [
    "'''def action_result(msg):\n",
    "    global number_reached_targets,hist_times_values\n",
    "    number_reached_targets=number_reached_targets+1\n",
    "    hist_times_values.append(time.time()-initial_time)\n",
    "    print('TARGET REACHEDDDDDDDDDDD')\n",
    "'''\n",
    "def action_feedback(msg):\n",
    "    global number_reached_targets,hist_times_values\n",
    "    if msg.feedback.stat==\"Target reached!\":\n",
    "        number_reached_targets=number_reached_targets+1\n",
    "        hist_times_values.append(time.time()-initial_time)\n",
    "        print('TARGET REACHEDDDDDDDDDDD')\n",
    "        print(len(hist_times_values))\n",
    "        \n",
    "    \n",
    "    \n",
    "    \n",
    "\n",
    "def odom_callback(msg):\n",
    "    global x_value,y_lin_msg,initial_time\n",
    "    x_value=time.time()-initial_time\n",
    "    y_lin_msg=msg.twist.twist.linear.x\n",
    "    y_ang_msg=msg.twist.twist.angular.z\n",
    "    x1_fig1.append(x_value)\n",
    "    y1_fig1.append(y_lin_msg)\n",
    "    x1_fig2.append(x_value)\n",
    "    y1_fig2.append(y_ang_msg)\n",
    "    \n",
    "    \n",
    "\n",
    "\n",
    "def animate1(i):\n",
    "    global ax1\n",
    "    ax1.set_xlim( x_value-5, x_value+5)\n",
    "    ax1.set_ylim(-1.2, 1.2)\n",
    "    \n",
    "\n",
    "    x2_fig1.append(x_value)\n",
    "    y2_fig1.append(lin_vel_requested)\n",
    "\n",
    "    xlist = [x1_fig1, x2_fig1]\n",
    "    ylist = [y1_fig1, y2_fig1]\n",
    "\n",
    "    #for index in range(0,1):\n",
    "    for lnum1,line1 in enumerate(lines1):\n",
    "        line1.set_data(xlist[lnum1], ylist[lnum1]) # set data for each line separately. \n",
    "\n",
    "    return lines1\n",
    "\n",
    "def animate2(i):\n",
    "    global ax2\n",
    "    ax2.set_xlim( x_value-5, x_value+5)\n",
    "    ax2.set_ylim(-1.2, 1.2)\n",
    "    \n",
    "\n",
    "    \n",
    "\n",
    "    x2_fig2.append(x_value)\n",
    "    y2_fig2.append(-ang_vel_requested)\n",
    "\n",
    "    xlist = [x1_fig2, x2_fig2]\n",
    "    ylist = [y1_fig2, y2_fig2]\n",
    "\n",
    "    #for index in range(0,1):\n",
    "    for lnum2,line2 in enumerate(lines2):\n",
    "        line2.set_data(xlist[lnum2], ylist[lnum2]) # set data for each line separately. \n",
    "\n",
    "    return lines2\n",
    "\n",
    "\n",
    "jr.subscribe('/odom', Odometry, odom_callback)\n",
    "\n",
    "jr.subscribe('/go_to_point_action/feedback',go_to_pointActionFeedback, action_feedback)"
   ]
  },
  {
   "cell_type": "code",
   "execution_count": 5,
   "id": "d6c95756-37d6-4f1e-9f66-8153796c8633",
   "metadata": {},
   "outputs": [
    {
     "data": {
      "application/vnd.jupyter.widget-view+json": {
       "model_id": "a6d99235654d4f9ca1a75a502d07fa2c",
       "version_major": 2,
       "version_minor": 0
      },
      "text/plain": [
       "Canvas(toolbar=Toolbar(toolitems=[('Home', 'Reset original view', 'home', 'home'), ('Back', 'Back to previous …"
      ]
     },
     "metadata": {},
     "output_type": "display_data"
    }
   ],
   "source": [
    "fig3 = plt.figure()\n",
    "ax3 = fig3.add_axes([0,0,1,1])\n",
    "langs = ['reached', 'cancelled']\n",
    "students = [0,0]\n",
    "ax3.bar(langs,students,color = 'r', width = 0.25)\n",
    "\n",
    "\n",
    "def animate3(i):\n",
    "    global ax3\n",
    "    if number_reached_targets-number_stopped_targets >0 :\n",
    "        students = [number_stopped_targets,number_reached_targets-number_stopped_targets]\n",
    "    else:\n",
    "        students = [number_stopped_targets,0]\n",
    "    ax3.bar(langs,students,color = 'r', width = 0.25)\n",
    "    \n",
    "    "
   ]
  },
  {
   "cell_type": "code",
   "execution_count": 6,
   "id": "7fe95d91-f5d0-4995-8a36-7990b92a081d",
   "metadata": {},
   "outputs": [
    {
     "data": {
      "application/vnd.jupyter.widget-view+json": {
       "model_id": "6e41686339d54f7abfcef8b1cbd112f3",
       "version_major": 2,
       "version_minor": 0
      },
      "text/plain": [
       "Canvas(toolbar=Toolbar(toolitems=[('Home', 'Reset original view', 'home', 'home'), ('Back', 'Back to previous …"
      ]
     },
     "metadata": {},
     "output_type": "display_data"
    }
   ],
   "source": [
    "import matplotlib.mlab as mlab\n",
    "import matplotlib.pyplot as plt\n",
    "fig4=plt.figure()\n",
    "step=5\n",
    "num_bins=1\n",
    "n, bins, patches = plt.hist(hist_times_values, num_bins, facecolor='blue', alpha=0.5)\n",
    "\n",
    "def animate4(i):\n",
    "    if len(hist_times_values)>0 :\n",
    "        larghezza=hist_times_values[len(hist_times_values)-1]-hist_times_values[0]\n",
    "        num_bins=int(larghezza/step)\n",
    "        if num_bins==0 :\n",
    "            num_bins=1\n",
    "        plt.hist(hist_times_values, num_bins, facecolor='blue', alpha=0.5)\n",
    "    \n",
    "    \n",
    "    "
   ]
  },
  {
   "cell_type": "code",
   "execution_count": 7,
   "id": "90ba5163",
   "metadata": {},
   "outputs": [],
   "source": [
    "# call the animator. blit=True means only re-draw the parts that have changed.\n",
    "\n",
    "anim1 = animation.FuncAnimation(fig1, animate1, init_func=init1,\n",
    "                               frames=frame_num, interval=20, blit=True)\n",
    "anim2 = animation.FuncAnimation(fig2, animate2, init_func=init2,\n",
    "                               frames=frame_num, interval=20, blit=True)\n",
    "anim3 = animation.FuncAnimation(fig3, animate3,\n",
    "                               frames=frame_num, interval=20, blit=True)\n",
    "anim4 = animation.FuncAnimation(fig4,animate4,\n",
    "                               frames=frame_num, interval=20, blit=True)\n"
   ]
  }
 ],
 "metadata": {
  "hide_input": false,
  "kernelspec": {
   "display_name": "Python 3",
   "language": "python",
   "name": "python3"
  },
  "language_info": {
   "codemirror_mode": {
    "name": "ipython",
    "version": 3
   },
   "file_extension": ".py",
   "mimetype": "text/x-python",
   "name": "python",
   "nbconvert_exporter": "python",
   "pygments_lexer": "ipython3",
   "version": "3.7.5"
  },
  "toc": {
   "base_numbering": 1,
   "nav_menu": {},
   "number_sections": true,
   "sideBar": true,
   "skip_h1_title": false,
   "title_cell": "Table of Contents",
   "title_sidebar": "Contents",
   "toc_cell": false,
   "toc_position": {},
   "toc_section_display": true,
   "toc_window_display": false
  },
  "varInspector": {
   "cols": {
    "lenName": 16,
    "lenType": 16,
    "lenVar": 40
   },
   "kernels_config": {
    "python": {
     "delete_cmd_postfix": "",
     "delete_cmd_prefix": "del ",
     "library": "var_list.py",
     "varRefreshCmd": "print(var_dic_list())"
    },
    "r": {
     "delete_cmd_postfix": ") ",
     "delete_cmd_prefix": "rm(",
     "library": "var_list.r",
     "varRefreshCmd": "cat(var_dic_list()) "
    }
   },
   "types_to_exclude": [
    "module",
    "function",
    "builtin_function_or_method",
    "instance",
    "_Feature"
   ],
   "window_display": false
  }
 },
 "nbformat": 4,
 "nbformat_minor": 5
}

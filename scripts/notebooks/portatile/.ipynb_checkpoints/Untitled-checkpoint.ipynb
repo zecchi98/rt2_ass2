{
 "cells": [
  {
   "cell_type": "code",
   "execution_count": 1,
   "id": "02c5d96a-43ed-45b6-8b0c-80d9cb5743c7",
   "metadata": {},
   "outputs": [
    {
     "data": {
      "application/vnd.jupyter.widget-view+json": {
       "model_id": "e99b13415fd44a798cad5222b2f07463",
       "version_major": 2,
       "version_minor": 0
      },
      "text/plain": [
       "Canvas(toolbar=Toolbar(toolitems=[('Home', 'Reset original view', 'home', 'home'), ('Back', 'Back to previous …"
      ]
     },
     "metadata": {},
     "output_type": "display_data"
    }
   ],
   "source": [
    "%matplotlib widget\n",
    "import numpy as np\n",
    "import matplotlib.pyplot as plt\n",
    "import jupyros as jr\n",
    "import rospy\n",
    "from turtlesim.msg import Pose\n",
    "from nav_msgs.msg import Odometry\n",
    "from matplotlib import animation, rc# First set up the figure and the axis \n",
    "fig, ax = plt.subplots()\n",
    "ax.set_xlim(( -5, 5))\n",
    "ax.set_ylim((-5, 5))\n",
    "line, = ax.plot([], [], 'ro')\n",
    "x_data=[]\n",
    "y_data=[]\n",
    "\n",
    "\n",
    "def init():\n",
    "    line.set_data([], [])\n",
    "    return (line,)\n",
    "def odom_callback(msg):\n",
    "    print('prova')\n",
    "    y_data.append(msg.y)\n",
    "    x_data.append(msg.x)\n",
    "def animate(i):\n",
    "    line.set_data(x_data, y_data)\n",
    "    return (line,)\n",
    "rospy.init_node('odom_visualizer_node')\n",
    "jr.subscribe(\"/turtle1/pose\", Pose, odom_callback)# call the animator. blit=True means only re-draw the parts that have changed.\n",
    "anim = animation.FuncAnimation(fig, animate, init_func=init,frames=100, interval=20, blit=True)\n"
   ]
  },
  {
   "cell_type": "code",
   "execution_count": null,
   "id": "f9fd592b-8bc4-4b79-98df-7fc9dc2dd4e3",
   "metadata": {},
   "outputs": [],
   "source": []
  }
 ],
 "metadata": {
  "kernelspec": {
   "display_name": "Python 3",
   "language": "python",
   "name": "python3"
  },
  "language_info": {
   "codemirror_mode": {
    "name": "ipython",
    "version": 3
   },
   "file_extension": ".py",
   "mimetype": "text/x-python",
   "name": "python",
   "nbconvert_exporter": "python",
   "pygments_lexer": "ipython3",
   "version": "3.7.5"
  }
 },
 "nbformat": 4,
 "nbformat_minor": 5
}

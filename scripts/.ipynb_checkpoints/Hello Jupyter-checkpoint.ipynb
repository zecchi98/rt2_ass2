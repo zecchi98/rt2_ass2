{
 "cells": [
  {
   "cell_type": "code",
   "execution_count": 5,
   "id": "93cb8955-f6a6-406f-9606-97765caf1104",
   "metadata": {
    "execution": {
     "iopub.execute_input": "2021-06-01T09:01:27.028294Z",
     "iopub.status.busy": "2021-06-01T09:01:27.028043Z",
     "iopub.status.idle": "2021-06-01T09:01:37.631085Z",
     "shell.execute_reply": "2021-06-01T09:01:37.630253Z",
     "shell.execute_reply.started": "2021-06-01T09:01:27.028273Z"
    },
    "tags": []
   },
   "outputs": [
    {
     "data": {
      "application/vnd.jupyter.widget-view+json": {
       "model_id": "61a80623c96a4fdea60e6f7556e1a4c6",
       "version_major": 2,
       "version_minor": 0
      },
      "text/plain": [
       "FloatSlider(value=0.5, description='Linear velocity of the direct control', max=1.0)"
      ]
     },
     "metadata": {},
     "output_type": "display_data"
    },
    {
     "data": {
      "application/vnd.jupyter.widget-view+json": {
       "model_id": "fe08833c18eb472cab8c6af359cade5c",
       "version_major": 2,
       "version_minor": 0
      },
      "text/plain": [
       "FloatSlider(value=1.3, description='Angular velocity of the direct control', max=2.0, min=1.0)"
      ]
     },
     "metadata": {},
     "output_type": "display_data"
    },
    {
     "data": {
      "text/plain": [
       "Text(0, 0.5, 'sine')"
      ]
     },
     "execution_count": 5,
     "metadata": {},
     "output_type": "execute_result"
    },
    {
     "data": {
      "image/png": "[encoded data removed]",
      "text/plain": [
       "<Figure size 432x288 with 1 Axes>"
      ]
     },
     "metadata": {
      "needs_background": "light"
     },
     "output_type": "display_data"
    }
   ],
   "source": [
    "import ipywidgets as widgets\n",
    "from ipywidgets import Button, Layout, ButtonStyle, GridBox, VBox, HBox\n",
    "import rospy\n",
    "import time\n",
    "from rt2_ass2.srv import Command,CommandRequest\n",
    "from geometry_msgs.msg import Twist, Point\n",
    "from nav_msgs.msg import Odometry\n",
    "from tf import transformations\n",
    "from rt2_ass2.srv import Position\n",
    "import math\n",
    "import actionlib\n",
    "import actionlib.msg\n",
    "import rt2_ass2.msg\n",
    "import jupyros as jr\n",
    "\n",
    "import numpy as np\n",
    "import matplotlib.pyplot as plt\n",
    "from matplotlib.animation import FuncAnimation\n",
    "import rospy\n",
    "import tf\n",
    "from nav_msgs.msg import Odometry\n",
    "from tf.transformations import quaternion_matrix\n",
    "\n",
    "\n",
    "robot_moving_random=False\n",
    "robot_moving_command=False\n",
    "rospy.init_node('notebook_interface')\n",
    "ui_client = rospy.ServiceProxy('/user_interface', Command)\n",
    "pub_ = rospy.Publisher('/cmd_vel', Twist, queue_size=1)\n",
    "time.sleep(10)\n",
    "rate = rospy.Rate(20)\n",
    "\n",
    "\n",
    "linear_velocity = widgets.FloatSlider()\n",
    "linear_velocity.min=0\n",
    "linear_velocity.max=1\n",
    "linear_velocity.description='Linear velocity of the direct control'\n",
    "linear_velocity.value='0.5'\n",
    "\n",
    "angular_velocity = widgets.FloatSlider()\n",
    "angular_velocity.min=1\n",
    "angular_velocity.max=2\n",
    "angular_velocity.description='Angular velocity of the direct control'\n",
    "angular_velocity.value='1.3'\n",
    "display(linear_velocity,angular_velocity)\n",
    "\n",
    "class Visualiser:\n",
    "    def __init__(self):\n",
    "        self.fig, self.ax = plt.subplots()\n",
    "        self.ln, = plt.plot([], [], 'ro')\n",
    "        self.x_data, self.y_data = [] , []\n",
    "    def plot_init(self):\n",
    "        self.ax.set_xlim(-5, 5)\n",
    "        self.ax.set_ylim(-5, 5)\n",
    "        return self.ln\n",
    "    def odom_callback(self,  msg):\n",
    "        self.y_data.append(msg.pose.pose.position.y)\n",
    "        self.x_data.append(msg.pose.pose.position.x)\n",
    "    def update_plot(self,  frame):\n",
    "        self.ln.set_data(self.x_data,  self.y_data)\n",
    "        return self.ln\n",
    "\n",
    "class Move:\n",
    "    ind = 0\n",
    "    def start(self, event):\n",
    "        global robot_moving_random,robot_moving_command, linear_velocity, angular_velocity\n",
    "        \n",
    "        if not robot_moving_random:\n",
    "            if robot_moving_command:\n",
    "               self.stop(event)\n",
    "            \n",
    "            msg=CommandRequest()\n",
    "            msg.command='start'\n",
    "            msg.lin_vel=linear_velocity.value\n",
    "            msg.ang_vel=angular_velocity.value\n",
    "            ui_client(msg)\n",
    "            robot_moving_random=True\n",
    "\n",
    "    def stop(self, event):\n",
    "        global robot_moving_random,robot_moving_command\n",
    "        if robot_moving_random:\n",
    "            \n",
    "            msg=CommandRequest()\n",
    "            msg.command='stop'\n",
    "            ui_client(msg)\n",
    "            robot_moving_random=False\n",
    "            \n",
    "        if robot_moving_command:\n",
    "            twist_msg = Twist()\n",
    "            pub_.publish(twist_msg)\n",
    "            robot_moving_command=False\n",
    "\n",
    "    def moveup(self, event):\n",
    "        global robot_moving_random, robot_moving_command, linear_velocity\n",
    "        \n",
    "        if robot_moving_random:\n",
    "            self.stop(event)\n",
    "            time.sleep(1)\n",
    "        \n",
    "        twist_msg = Twist()\n",
    "        twist_msg.linear.x = linear_velocity.value\n",
    "        twist_msg.angular.z = 0\n",
    "        pub_.publish(twist_msg)\n",
    "        robot_moving_command=True\n",
    "    def movedown(self, event):\n",
    "        global robot_moving_random, robot_moving_command,linear_velocity \n",
    "        \n",
    "        if robot_moving_random:\n",
    "            self.stop(event)\n",
    "            time.sleep(1)\n",
    "        \n",
    "        twist_msg = Twist()\n",
    "        twist_msg.linear.x = -linear_velocity.value\n",
    "        twist_msg.angular.z = 0\n",
    "        pub_.publish(twist_msg)\n",
    "        robot_moving_command=True\n",
    "    def moveleft(self, event):\n",
    "        global robot_moving_random, robot_moving_command,angular_velocity\n",
    "        \n",
    "        if robot_moving_random:\n",
    "            self.stop(event)\n",
    "            time.sleep(1)\n",
    "        \n",
    "        twist_msg = Twist()\n",
    "        twist_msg.linear.x = 0\n",
    "        twist_msg.angular.z = -angular_velocity.value\n",
    "        pub_.publish(twist_msg)\n",
    "        robot_moving_command=True\n",
    "    def moveright(self, event):\n",
    "        global robot_moving_random, robot_moving_command,angular_velocity\n",
    "\n",
    "        if robot_moving_random:\n",
    "            self.stop(event)\n",
    "            time.sleep(1)\n",
    "                    \n",
    "        twist_msg = Twist()\n",
    "        twist_msg.linear.x = 0\n",
    "        twist_msg.angular.z = angular_velocity.value\n",
    "        pub_.publish(twist_msg)\n",
    "        robot_moving_command=True\n",
    "        \n",
    "        \n",
    "robot = Move()\n",
    "b1  = Button(description='Start random target',layout=Layout(width='auto', align=\"center\", grid_area='b1'),style=ButtonStyle(button_color='lightblue'))\n",
    "b2  = Button(description='Stop',layout=Layout(width='auto', grid_area='b2'),style=ButtonStyle(button_color='red'))\n",
    "up  = Button(description='Move up',layout=Layout(width='auto', grid_area='up'),style=ButtonStyle(button_color='moccasin'))\n",
    "down  = Button(description='Move down',layout=Layout(width='auto', grid_area='down'),style=ButtonStyle(button_color='moccasin'))\n",
    "left  = Button(description='Rotate left',layout=Layout(width='auto', grid_area='left'),style=ButtonStyle(button_color='moccasin'))\n",
    "right  = Button(description='Rotate right',layout=Layout(width='auto', grid_area='right'),style=ButtonStyle(button_color='moccasin'))\n",
    "\n",
    "b1.on_click(robot.start)\n",
    "b2.on_click(robot.stop)\n",
    "up.on_click(robot.moveup)\n",
    "left.on_click(robot.moveleft)\n",
    "right.on_click(robot.moveright)\n",
    "down.on_click(robot.movedown)\n",
    "\n",
    "GridBox(children=[b1,  b2, up, left, right, down],layout=Layout(width='40%',grid_template_rows='auto auto auto',grid_template_columns='33% 33% 33%',grid_template_areas='''\". up .\"\" left down right \"\" b1 b2 .\"'''))\n",
    "\n",
    "jr.live_plot(\"/odom/pose/:x:y\", Pose, 10000)"
   ]
  }
 ],
 "metadata": {
  "kernelspec": {
   "display_name": "Python 3",
   "language": "python",
   "name": "python3"
  },
  "language_info": {
   "codemirror_mode": {
    "name": "ipython",
    "version": 3
   },
   "file_extension": ".py",
   "mimetype": "text/x-python",
   "name": "python",
   "nbconvert_exporter": "python",
   "pygments_lexer": "ipython3",
   "version": "3.8.5"
  }
 },
 "nbformat": 4,
 "nbformat_minor": 5
}
